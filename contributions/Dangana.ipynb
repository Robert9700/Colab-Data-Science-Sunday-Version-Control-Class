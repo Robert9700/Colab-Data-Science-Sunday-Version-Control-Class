{
 "cells": [
  {
   "cell_type": "code",
   "execution_count": 1,
   "id": "262d045d-80b1-46dc-b809-5aa9e8f7d98a",
   "metadata": {},
   "outputs": [],
   "source": [
    "def addition(a, b):\n",
    "    print(a + b)"
   ]
  },
  {
   "cell_type": "code",
   "execution_count": 2,
   "id": "f7f13cfc-93b0-4e86-9031-9bb647e41738",
   "metadata": {},
   "outputs": [
    {
     "name": "stdout",
     "output_type": "stream",
     "text": [
      "8\n"
     ]
    }
   ],
   "source": [
    "addition (3, 5)"
   ]
  },
  {
   "cell_type": "code",
   "execution_count": null,
   "id": "5dc6f22c-b1ca-4c84-bbcd-74874434d154",
   "metadata": {},
   "outputs": [],
   "source": []
  }
 ],
 "metadata": {
  "kernelspec": {
   "display_name": "Python 3 (ipykernel)",
   "language": "python",
   "name": "python3"
  },
  "language_info": {
   "codemirror_mode": {
    "name": "ipython",
    "version": 3
   },
   "file_extension": ".py",
   "mimetype": "text/x-python",
   "name": "python",
   "nbconvert_exporter": "python",
   "pygments_lexer": "ipython3",
   "version": "3.12.7"
  }
 },
 "nbformat": 4,
 "nbformat_minor": 5
}
